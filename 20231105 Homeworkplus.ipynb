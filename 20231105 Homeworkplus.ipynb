{
 "cells": [
  {
   "cell_type": "markdown",
   "id": "dc4c41aa",
   "metadata": {},
   "source": [
    "참고 : https://m.blog.naver.com/alswjd3970/222617899458"
   ]
  },
  {
   "cell_type": "code",
   "execution_count": 1,
   "id": "23be1525",
   "metadata": {},
   "outputs": [],
   "source": [
    "import cv2\n",
    "import numpy as np"
   ]
  },
  {
   "cell_type": "markdown",
   "id": "6c08d01b",
   "metadata": {},
   "source": [
    "# 이미지 처리 기초"
   ]
  },
  {
   "cell_type": "code",
   "execution_count": 2,
   "id": "a24cde04",
   "metadata": {},
   "outputs": [],
   "source": [
    "ex1 = cv2.imread('1.png')"
   ]
  },
  {
   "cell_type": "code",
   "execution_count": 3,
   "id": "80dcb130",
   "metadata": {},
   "outputs": [
    {
     "data": {
      "text/plain": [
       "array([ 21, 168, 239], dtype=uint8)"
      ]
     },
     "execution_count": 3,
     "metadata": {},
     "output_type": "execute_result"
    }
   ],
   "source": [
    "ex1[100,100] #blue 21 "
   ]
  },
  {
   "cell_type": "markdown",
   "id": "d708316a",
   "metadata": {},
   "source": [
    "# HSV 처리"
   ]
  },
  {
   "cell_type": "code",
   "execution_count": 22,
   "id": "ca4627f5",
   "metadata": {},
   "outputs": [],
   "source": [
    "balloon = cv2.imread('balloon.jpg')"
   ]
  },
  {
   "cell_type": "code",
   "execution_count": null,
   "id": "901e52fd",
   "metadata": {},
   "outputs": [],
   "source": []
  },
  {
   "cell_type": "code",
   "execution_count": null,
   "id": "010cfa44",
   "metadata": {},
   "outputs": [],
   "source": []
  },
  {
   "cell_type": "markdown",
   "id": "da6f596a",
   "metadata": {},
   "source": [
    "# 모서리 검출"
   ]
  },
  {
   "cell_type": "code",
   "execution_count": 23,
   "id": "340971ff",
   "metadata": {},
   "outputs": [],
   "source": [
    "star = cv2.imread('star.png')"
   ]
  },
  {
   "cell_type": "markdown",
   "id": "45d40329",
   "metadata": {},
   "source": [
    "# 얼굴, 눈 검출"
   ]
  },
  {
   "cell_type": "markdown",
   "id": "4dff2d5a",
   "metadata": {},
   "source": [
    "1, 이미지 안에서 얼굴 검출"
   ]
  },
  {
   "cell_type": "code",
   "execution_count": null,
   "id": "78a00f2a",
   "metadata": {},
   "outputs": [],
   "source": []
  },
  {
   "cell_type": "code",
   "execution_count": null,
   "id": "b10487f6",
   "metadata": {},
   "outputs": [],
   "source": []
  },
  {
   "cell_type": "markdown",
   "id": "6bef8743",
   "metadata": {},
   "source": [
    "2. 이미지 안에서 눈 검출"
   ]
  },
  {
   "cell_type": "code",
   "execution_count": null,
   "id": "535d0dcb",
   "metadata": {},
   "outputs": [],
   "source": []
  },
  {
   "cell_type": "code",
   "execution_count": null,
   "id": "1d7e75b1",
   "metadata": {},
   "outputs": [],
   "source": []
  },
  {
   "cell_type": "markdown",
   "id": "0865a5e2",
   "metadata": {},
   "source": [
    "3. 동영상 안에서 얼굴 및 눈 검출"
   ]
  },
  {
   "cell_type": "code",
   "execution_count": null,
   "id": "8715eb54",
   "metadata": {},
   "outputs": [],
   "source": []
  },
  {
   "cell_type": "code",
   "execution_count": null,
   "id": "6dab1d42",
   "metadata": {},
   "outputs": [],
   "source": []
  },
  {
   "cell_type": "code",
   "execution_count": null,
   "id": "a3e2bf8d",
   "metadata": {},
   "outputs": [],
   "source": []
  },
  {
   "cell_type": "markdown",
   "id": "a2f3fb36",
   "metadata": {},
   "source": [
    "# 이미지에서 원 찾기"
   ]
  },
  {
   "cell_type": "code",
   "execution_count": 24,
   "id": "5544b369",
   "metadata": {},
   "outputs": [],
   "source": [
    "sin = cv2.imread('sin,jpg')"
   ]
  },
  {
   "cell_type": "code",
   "execution_count": null,
   "id": "d5049e77",
   "metadata": {},
   "outputs": [],
   "source": []
  },
  {
   "cell_type": "code",
   "execution_count": null,
   "id": "d52ef861",
   "metadata": {},
   "outputs": [],
   "source": []
  },
  {
   "cell_type": "markdown",
   "id": "d50e86c9",
   "metadata": {},
   "source": [
    "# 탬플릿 매칭"
   ]
  },
  {
   "cell_type": "code",
   "execution_count": 25,
   "id": "24e9fe28",
   "metadata": {},
   "outputs": [],
   "source": [
    "game = cv2.imread('game.png')"
   ]
  },
  {
   "cell_type": "code",
   "execution_count": 26,
   "id": "c258de91",
   "metadata": {},
   "outputs": [],
   "source": [
    "apple = cv2.imread('apple.png')"
   ]
  },
  {
   "cell_type": "code",
   "execution_count": null,
   "id": "d49cf133",
   "metadata": {},
   "outputs": [],
   "source": []
  },
  {
   "cell_type": "code",
   "execution_count": null,
   "id": "959d73c3",
   "metadata": {},
   "outputs": [],
   "source": []
  }
 ],
 "metadata": {
  "kernelspec": {
   "display_name": "Python 3 (ipykernel)",
   "language": "python",
   "name": "python3"
  },
  "language_info": {
   "codemirror_mode": {
    "name": "ipython",
    "version": 3
   },
   "file_extension": ".py",
   "mimetype": "text/x-python",
   "name": "python",
   "nbconvert_exporter": "python",
   "pygments_lexer": "ipython3",
   "version": "3.11.4"
  }
 },
 "nbformat": 4,
 "nbformat_minor": 5
}
